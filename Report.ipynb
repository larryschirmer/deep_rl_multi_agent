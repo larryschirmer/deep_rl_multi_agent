{
 "cells": [
  {
   "cell_type": "markdown",
   "metadata": {},
   "source": [
    "# Solved Model Training and Evaluation"
   ]
  },
  {
   "cell_type": "markdown",
   "metadata": {},
   "source": [
    "This report documents a solution to ML Agents Tennis environment using A2C. The model achieved a moving average score over 100 episodes of +0.5 for the max of the agents in between 12800 and 12900 episodes."
   ]
  },
  {
   "cell_type": "markdown",
   "metadata": {},
   "source": [
    "The base code for this project comes from the cart pole implementation in Chapter 5 of [Deep Reinforcement Learning in Action](https://www.manning.com/books/deep-reinforcement-learning-in-action). The original implementation uses REINFORCE and a discrete distribution to predict which action (left or right) the cart should make to keep the pole upright.\n",
    "\n",
    "The majority of the training code is reused from my own implementation of [Reacher in another one of my repositories](https://github.com/larryschirmer/deep_rl_continuous_control). Because of the similarity in training environment and sharing continuous control output with the same range, only minor adaptions were made.\n",
    "\n",
    "There are some differences in the environment and training which I would like to make a note of. \n",
    "\n",
    "1. The Reacher environment has a fixed length episode meaning that however good or bad the agent does will make no difference as to how long each trjectory is. Tennis, however, has a variable length episode. As the agents get better and the episodes get longer, so does the amount of accumulated loss per trajectory. Environments like these have a tendency to have spikes in score followed by sudden drops. The network reached the target score before dropping in accuracy so the training passed, however had I needed to score higher I might have needed to implement PPO to keep the model parameters from changing too much between trainings.\n",
    "\n",
    "1. The initial Reward Leadup (my lazy version of GAE, discussed below) for Reacher is low (50) and decays to 5 over the course of training. My hunch as to why Reacher responds so well to low Reward Leadup is that all of the most rewarding actions happen right next to the target location. With this same low Reward Leadup, Tennis does not reach target score. With a larger Reward Leadup, 100-25, each Tennis agent associates a larger range of previous motion to higher reward. This, I believe, reinforces the paddle motion that results in hitting the ball over the net.\n",
    "\n",
    "1. The initial epsilon (standard deviation factor or entropy) is low for Reacher (0.3). For Tennis, though, the model has a hard time training with entropy that low. I was able to find this out by regular trial and error while adjusting the hyperparameters, but I'm not sure why this is the case.\n",
    "\n",
    "1. The way final scores are accounted for is different for Tennis. In this environemnt the final score is the max of the two scores in each episode."
   ]
  },
  {
   "cell_type": "code",
   "execution_count": 1,
   "metadata": {},
   "outputs": [],
   "source": [
    "from unityagents import UnityEnvironment\n",
    "from time import perf_counter\n",
    "import pandas as pd\n",
    "import copy\n",
    "import torch\n",
    "from torch import nn\n",
    "from torch.nn import functional as F\n",
    "from matplotlib import pyplot as plt\n",
    "import numpy as np\n",
    "\n",
    "from helpers import save_model, plot_losses, plot_scores"
   ]
  },
  {
   "cell_type": "markdown",
   "metadata": {},
   "source": [
    "## Algorithms and Methods\n",
    "\n",
    "The [ML Agents Tennis](https://github.com/Unity-Technologies/ml-agents/blob/master/docs/Learning-Environment-Examples.md#tennis) environment outputs a state space of 8 variables and takes an action space 2 variables per agent. The environment consists of 2 agents that interact with each other by passing a ball back and forth.\n",
    "\n",
    "It is considered passing when an moving average score over 100 episodes of +0.5 is achieved."
   ]
  },
  {
   "cell_type": "code",
   "execution_count": 2,
   "metadata": {},
   "outputs": [
    {
     "name": "stderr",
     "output_type": "stream",
     "text": [
      "INFO:unityagents:\n",
      "'Academy' started successfully!\n",
      "Unity Academy name: Academy\n",
      "        Number of Brains: 1\n",
      "        Number of External Brains : 1\n",
      "        Lesson number : 0\n",
      "        Reset Parameters :\n",
      "\t\t\n",
      "Unity brain name: TennisBrain\n",
      "        Number of Visual Observations (per agent): 0\n",
      "        Vector Observation space type: continuous\n",
      "        Vector Observation space size (per agent): 8\n",
      "        Number of stacked Vector Observation: 3\n",
      "        Vector Action space type: continuous\n",
      "        Vector Action space size (per agent): 2\n",
      "        Vector Action descriptions: , \n"
     ]
    }
   ],
   "source": [
    "env = UnityEnvironment(file_name='Tennis.app')\n",
    "# get the default brain\n",
    "brain_name = env.brain_names[0]"
   ]
  },
  {
   "cell_type": "markdown",
   "metadata": {},
   "source": [
    "The model makes these predictions using a feedforward neural network with two output tails:\n",
    "\n",
    "The first tail outputs the mean of the distribution between -1 and 1. The agent uses this output to predict where best to position the arm. The mean range is handled by the tanh activation function. The second tail outputs the predicted value of the state. The agent uses this value to predict how valuable the action is at that time step. This is useful for understanding the difference between traveling between rewards and actions that result in reward."
   ]
  },
  {
   "cell_type": "code",
   "execution_count": 3,
   "metadata": {},
   "outputs": [],
   "source": [
    "torch.manual_seed(0)\n",
    "\n",
    "\n",
    "class ActorCritic(nn.Module):\n",
    "    def __init__(self, params):\n",
    "        super(ActorCritic, self).__init__()\n",
    "        self.shared_linear0 = nn.Linear(params['input_dim'], params['shared_hidden0'])\n",
    "        self.shared_linear1 = nn.Linear(params['shared_hidden0'], params['shared_hidden1'])\n",
    "        self.shared_linear2 = nn.Linear(params['shared_hidden1'], params['shared_hidden2'])\n",
    "\n",
    "        self.actor_linear0 = nn.Linear(params['shared_hidden2'], params['actor_hidden'])\n",
    "        self.actor_linear1 = nn.Linear(params['actor_hidden'], params['actor_hidden'])\n",
    "        self.actor_linear2 = nn.Linear(params['actor_hidden'], params['output_dim_actor'])\n",
    "\n",
    "        self.critic_linear0 = nn.Linear(params['shared_hidden2'], params['critic_hidden'])\n",
    "        self.critic_linear1 = nn.Linear(params['critic_hidden'], params['critic_hidden'])\n",
    "        self.critic_linear2 = nn.Linear(params['critic_hidden'], params['output_dim_critic'])\n",
    "\n",
    "    def forward(self, x):\n",
    "        y = torch.tanh(self.shared_linear0(x))\n",
    "        y = torch.tanh(self.shared_linear1(y))\n",
    "        y = torch.tanh(self.shared_linear2(y))\n",
    "\n",
    "        a = torch.tanh(self.actor_linear0(y))\n",
    "        a = torch.tanh(self.actor_linear1(a))\n",
    "        actor = self.actor_linear2(a)\n",
    "        actor_mean = torch.tanh(actor)\n",
    "\n",
    "        c = torch.relu(self.critic_linear0(y.detach()))\n",
    "        c = torch.relu(self.critic_linear1(c))\n",
    "        critic = torch.relu(self.critic_linear2(c))\n",
    "        return actor_mean, critic\n"
   ]
  },
  {
   "cell_type": "code",
   "execution_count": 4,
   "metadata": {},
   "outputs": [],
   "source": [
    "# hyperparameters\n",
    "epochs = 30000\n",
    "lr = 0.0001\n",
    "gamma = 0.99\n",
    "clc = 0.1\n",
    "start_epsilon = 0.8\n",
    "end_epsilon = 0.1\n",
    "start_reward_leadup = 100\n",
    "end_reward_leadup = 25\n",
    "entropy_bonus = 0.01\n",
    "batch_size = 2\n",
    "\n",
    "input_dim = 24\n",
    "shared_hidden0 = 64\n",
    "shared_hidden1 = 128\n",
    "shared_hidden2 = 64\n",
    "actor_hidden = 32\n",
    "critic_hidden = 32\n",
    "output_dim_actor = 2\n",
    "output_dim_critic = 1\n",
    "\n",
    "losses = []\n",
    "actor_losses = []\n",
    "critic_losses = []\n",
    "scores = []\n",
    "ave_scores = []\n",
    "\n",
    "params = {\n",
    "    'env': env,\n",
    "    'brain_name': brain_name,\n",
    "    'start_epsilon': start_epsilon,\n",
    "    'end_epsilon': end_epsilon,\n",
    "    'epochs': epochs,\n",
    "    'lr': lr,\n",
    "    'gamma': gamma,\n",
    "    'clc': clc,\n",
    "    'start_reward_leadup': start_reward_leadup,\n",
    "    'end_reward_leadup': end_reward_leadup,\n",
    "    'entropy_bonus': entropy_bonus,\n",
    "    'batch_size': batch_size,\n",
    "    'losses': losses,\n",
    "    'scores': scores,\n",
    "    'ave_scores': ave_scores,\n",
    "    'actor_losses': actor_losses,\n",
    "    'critic_losses': critic_losses\n",
    "}\n",
    "\n",
    "model_params = {\n",
    "    'input_dim': input_dim,\n",
    "    'shared_hidden0': shared_hidden0,\n",
    "    'shared_hidden1': shared_hidden1,\n",
    "    'shared_hidden2': shared_hidden2,\n",
    "    'critic_hidden': critic_hidden,\n",
    "    'actor_hidden': actor_hidden,\n",
    "    'output_dim_actor': output_dim_actor,\n",
    "    'output_dim_critic': output_dim_critic\n",
    "}\n",
    "\n",
    "model = ActorCritic(model_params)\n",
    "optimizer = torch.optim.Adam(lr=params['lr'], params=model.parameters())"
   ]
  },
  {
   "cell_type": "markdown",
   "metadata": {},
   "source": [
    "The training process is managed by the `worker` function which controls when to stop training and stores the replay buffer and the highest scores. \n",
    "\n",
    "It also manages running each episode and training the network separately letting multiple episode trainings get batched together to smooth the loss/reward variation."
   ]
  },
  {
   "cell_type": "code",
   "execution_count": 5,
   "metadata": {},
   "outputs": [],
   "source": [
    "def worker(model, params, train=True, early_stop_threshold=5., early_stop_target=.5):\n",
    "\n",
    "    replay = []\n",
    "    optimizer = torch.optim.Adam(lr=params['lr'], params=model.parameters())\n",
    "    early_stop_captures = []\n",
    "\n",
    "    for epoch in range(params['epochs']):\n",
    "        if train and len(early_stop_captures) >= early_stop_threshold:\n",
    "            print(\"stopped early because net has reached target score\")\n",
    "            print(early_stop_captures)\n",
    "            break\n",
    "\n",
    "        final_score, epsilon, reward_leadup = run_episode(model, replay, params, epoch, train)\n",
    "        final_score = np.max(final_score)\n",
    "        params['scores'].append(final_score)\n",
    "        average_score = np.mean(params['scores'][-100:])\n",
    "        params['ave_scores'].append(average_score)\n",
    "\n",
    "        if train and len(replay) >= params['batch_size']:\n",
    "            loss, actor_loss, critic_loss = update_params(replay, optimizer, params)\n",
    "\n",
    "            params['losses'].append(loss.item())\n",
    "            params['actor_losses'].append(actor_loss.item())\n",
    "            params['critic_losses'].append(critic_loss.item())\n",
    "\n",
    "            if  epoch % 100 == 0:\n",
    "                print(\"Epoch: {}, Epsilon: {:.3f}, Reward Leadup: {:.1f}, Ave Score: {:.3f}, Max: {:.4f}\".format(epoch, epsilon, reward_leadup, average_score, np.amax(params['scores'])))\n",
    "        \n",
    "            replay = []\n",
    "            if average_score > early_stop_target:\n",
    "                early_stop_captures.append(average_score)"
   ]
  },
  {
   "cell_type": "markdown",
   "metadata": {},
   "source": [
    "The environment is reset at the start of each episode and a new training loop begins until the environment signals that one of the agents is done.\n",
    "\n",
    "At each training step, the agent converts the output mean from the model into a Normal Distribution with a standard distribution that is annealed over the course of training (epsilon). By annealing the value of the standard distribution, the entropy of the distribution starts off high while the accuracy of the model is low and slowly narrows the distribution as accuracy improves."
   ]
  },
  {
   "cell_type": "code",
   "execution_count": 6,
   "metadata": {},
   "outputs": [],
   "source": [
    "def run_episode(model, replay, params, epoch, train):\n",
    "\n",
    "    env_info = params['env'].reset(train_mode=train)[params['brain_name']]\n",
    "    state_ = env_info.vector_observations\n",
    "    num_agents = len(env_info.agents)\n",
    "    states = torch.from_numpy(state_).float()\n",
    "    scores = np.zeros(num_agents)               # initialize the score\n",
    "\n",
    "    values, logprobs, rewards, mean_entropy = [], [], [], torch.tensor(0.)\n",
    "    done = False\n",
    "\n",
    "    epsilon = np.clip((params['end_epsilon'] - params['start_epsilon']) / (params['epochs'] - 0) * epoch + params['start_epsilon'], params['end_epsilon'], params['start_epsilon'])\n",
    "    step_count = 0\n",
    "    while (done == False):\n",
    "        step_count += 1\n",
    "        actor_mean, value = model(states)\n",
    "        actor_std = torch.tensor(epsilon)\n",
    "\n",
    "        actor_mean = actor_mean.t()\n",
    "\n",
    "        action_dist0 = torch.distributions.Normal(actor_mean[0], actor_std)\n",
    "        action_dist1 = torch.distributions.Normal(actor_mean[1], actor_std)\n",
    "\n",
    "        mean_entropy = action_dist0.entropy().mean()\n",
    "\n",
    "        action0 = torch.clamp(action_dist0.sample(), min=-1, max=1)\n",
    "        action1 = torch.clamp(action_dist1.sample(), min=-1, max=1)\n",
    "        logprob0 = action_dist0.log_prob(action0)\n",
    "        logprob1 = action_dist1.log_prob(action1)\n",
    "\n",
    "        values.append(value.view(-1))\n",
    "        logprobs.append([logprob0.view(-1), logprob1.view(-1)])\n",
    "\n",
    "        action_list = [action0.detach().numpy().squeeze(), action1.detach().numpy().squeeze()]\n",
    "        action_list = np.stack(action_list, axis=1)\n",
    "        # send all actions to the environment\n",
    "        env_info = params['env'].step(action_list)[params['brain_name']]\n",
    "        # get next state (for each agent)\n",
    "        state_ = env_info.vector_observations\n",
    "        # get reward (for each agent)\n",
    "        reward = env_info.rewards\n",
    "        # see if episode finished\n",
    "        done = env_info.local_done[0]\n",
    "\n",
    "        states = torch.from_numpy(state_).float()\n",
    "        rewards.append(reward)\n",
    "        scores += np.array(reward)\n",
    "\n",
    "\n",
    "    # Update replay buffer for each agent\n",
    "    stacked_logprob0 = torch.stack([a[0] for a in logprobs], dim=1)\n",
    "    stacked_logprob1 = torch.stack([a[1] for a in logprobs], dim=1)\n",
    "    stacked_values = torch.stack(values, dim=1)\n",
    "    stacked_rewards = np.stack(rewards, axis=1)\n",
    "\n",
    "    for agent_index in range(len(env_info.agents)):\n",
    "  \n",
    "        agent_values = stacked_values[agent_index]\n",
    "        agent_logprobs = [stacked_logprob0[agent_index], stacked_logprob1[agent_index]]\n",
    "        agent_rewards = stacked_rewards[agent_index]\n",
    "\n",
    "        actor_losses, critic_losses, losses, reward_leadup = get_trjectory_loss(agent_values, agent_logprobs, agent_rewards, mean_entropy, epoch, params)\n",
    "        replay.append((scores[agent_index], actor_losses, critic_losses, losses))\n",
    "\n",
    "    return scores, epsilon, reward_leadup"
   ]
  },
  {
   "cell_type": "markdown",
   "metadata": {},
   "source": [
    "Information is collected at each trajectory and used to calculate the loss from that episode."
   ]
  },
  {
   "cell_type": "code",
   "execution_count": 7,
   "metadata": {},
   "outputs": [],
   "source": [
    "def get_trjectory_loss(values, logprobs, rewards, mean_entropy, epoch, params):\n",
    "    reward_leadup = np.clip((params['end_reward_leadup'] - params['start_reward_leadup']) / (params['epochs'] - 0) * epoch + params['start_reward_leadup'], params['end_reward_leadup'], params['start_reward_leadup'])\n",
    "    [logprob0, logprob1] = logprobs\n",
    "\n",
    "    values = values.flip(dims=(0,))\n",
    "    rewards = torch.Tensor(rewards).flip(dims=(0,))\n",
    "    logprob0 = logprob0.flip(dims=(0,))\n",
    "    logprob1 = logprob1.flip(dims=(0,))\n",
    "\n",
    "    Returns = []\n",
    "    total_return = torch.Tensor([0])\n",
    "    leadup = 0\n",
    "\n",
    "    for reward_index in range(len(rewards)):\n",
    "        if rewards[reward_index].item() > 0:\n",
    "            leadup = reward_leadup\n",
    "        if leadup == 0:\n",
    "            total_return = torch.Tensor([0])\n",
    "        \n",
    "        total_return = rewards[reward_index] + total_return * params['gamma']\n",
    "        Returns.append(total_return)\n",
    "        leadup = leadup - 1 if leadup > 0 else 0\n",
    "\n",
    "    Returns = torch.stack(Returns).view(-1)\n",
    "    Returns = F.normalize(Returns, dim=0)\n",
    "\n",
    "    actor_loss0 = -logprob0 * (Returns - values.detach())\n",
    "    actor_loss1 = -logprob1 * (Returns - values.detach())\n",
    "    critic_loss = torch.pow(values - Returns, 2)\n",
    "\n",
    "    actor_loss0 = actor_loss0.sum()\n",
    "    actor_loss1 = actor_loss1.sum()\n",
    "    critic_loss = critic_loss.sum()\n",
    "\n",
    "    loss0 = actor_loss0 + params['clc']*critic_loss + params['entropy_bonus'] * mean_entropy\n",
    "    loss1 = actor_loss1 + params['clc']*critic_loss + params['entropy_bonus'] * mean_entropy\n",
    "\n",
    "    actor_losses = (actor_loss0, actor_loss1)\n",
    "    losses = (loss0, loss1)\n",
    "\n",
    "    return actor_losses, critic_loss, losses, reward_leadup"
   ]
  },
  {
   "cell_type": "markdown",
   "metadata": {},
   "source": [
    "The loss of each trajectory is calculated using the general [REINFORCE formula](https://pytorch.org/docs/stable/distributions.html#score-function). The most notable change to this implementation though is how rewards are discounted.\n",
    "\n",
    "```python\n",
    "Returns = []\n",
    "total_return = torch.Tensor([0])\n",
    "leadup = 0\n",
    "\n",
    "for reward_index in range(len(rewards)):\n",
    "    if rewards[reward_index].item() > 0:\n",
    "        leadup = reward_leadup\n",
    "    if leadup == 0:\n",
    "        total_return = torch.Tensor([0])\n",
    "    \n",
    "    total_return = rewards[reward_index] + total_return * params['gamma']\n",
    "    Returns.append(total_return)\n",
    "    leadup = leadup - 1 if leadup > 0 else 0\n",
    "```\n",
    "\n",
    "I understand the concept of GAE (Generalized Advantage Estimation). This technique changes how far ahead the agent can look in terms of future reward. I, however, had issues implementing the technique so I ended up adding a simpler variation of the technique I called Reward Leadup. What Reward Leadup does is only reward actions closer to where they happen. This solves the issue where random motion hundreds of timesteps away from when a reward occurs confuses the model into thinking that random useless motion somehow contributed to that reward occurring.\n",
    "\n",
    "The trick is that after the rewards are reversed, if there is not a reward during the leadup window then the reward is not cumulative. The result of this change makes future reward (from the perspective of the agent) much higher right when rewards occurs, then reinforcing the actions that lead to the reward."
   ]
  },
  {
   "cell_type": "code",
   "execution_count": 8,
   "metadata": {},
   "outputs": [],
   "source": [
    "def update_params(replay, optimizer, params):\n",
    "    loss0 = torch.tensor(0.)\n",
    "    loss1 = torch.tensor(0.)\n",
    "    actor_loss0 = torch.tensor(0.)\n",
    "    actor_loss1 = torch.tensor(0.)\n",
    "    critic_loss = torch.tensor(0.)\n",
    "\n",
    "    for trajectory in replay:\n",
    "        rewards_sum, actor_losses, critic_loss, losses = trajectory\n",
    "        loss0 += losses[0]\n",
    "        loss1 += losses[1]\n",
    "        actor_loss0 += actor_losses[0]\n",
    "        actor_loss1 += actor_losses[1]\n",
    "        critic_loss += critic_loss\n",
    "    \n",
    "\n",
    "    loss0 = loss0 / len(replay)\n",
    "    loss1 = loss1 / len(replay)\n",
    "    actor_loss0 = actor_loss0 / len(replay)\n",
    "    actor_loss1 = actor_loss1 / len(replay)\n",
    "    critic_loss = critic_loss / len(replay)\n",
    "\n",
    "    loss_mean = (loss0 + loss1) / 2\n",
    "\n",
    "    optimizer.zero_grad()\n",
    "    loss_mean.backward()\n",
    "    optimizer.step()\n",
    "\n",
    "    actor_loss_sum = actor_loss0 + actor_loss1\n",
    "\n",
    "    return loss_mean, actor_loss_sum, critic_loss"
   ]
  },
  {
   "cell_type": "markdown",
   "metadata": {},
   "source": [
    "Losses from each trajectory are batched together and the model is updated using the average of the loss across the batch. This is done to reduce to the variability in training data and smooth loss."
   ]
  },
  {
   "cell_type": "markdown",
   "metadata": {},
   "source": [
    "## Training Evaluation\n",
    "\n",
    "Model training stopped early at between 12800 and 12900 reaching a target moving average score of 0.5 for the max of both agents."
   ]
  },
  {
   "cell_type": "code",
   "execution_count": 9,
   "metadata": {
    "scrolled": true
   },
   "outputs": [
    {
     "name": "stdout",
     "output_type": "stream",
     "text": [
      "Epoch: 0, Epsilon: 0.800, Reward Leadup: 100.0, Ave Score: 0.000, Max: 0.0000\n",
      "Epoch: 100, Epsilon: 0.798, Reward Leadup: 99.8, Ave Score: 0.007, Max: 0.1000\n",
      "Epoch: 200, Epsilon: 0.795, Reward Leadup: 99.5, Ave Score: 0.012, Max: 0.1000\n",
      "Epoch: 300, Epsilon: 0.793, Reward Leadup: 99.2, Ave Score: 0.011, Max: 0.1000\n",
      "Epoch: 400, Epsilon: 0.791, Reward Leadup: 99.0, Ave Score: 0.003, Max: 0.1000\n",
      "Epoch: 500, Epsilon: 0.788, Reward Leadup: 98.8, Ave Score: 0.007, Max: 0.1000\n",
      "Epoch: 600, Epsilon: 0.786, Reward Leadup: 98.5, Ave Score: 0.009, Max: 0.1000\n",
      "Epoch: 700, Epsilon: 0.784, Reward Leadup: 98.2, Ave Score: 0.011, Max: 0.1000\n",
      "Epoch: 800, Epsilon: 0.781, Reward Leadup: 98.0, Ave Score: 0.012, Max: 0.1000\n",
      "Epoch: 900, Epsilon: 0.779, Reward Leadup: 97.8, Ave Score: 0.010, Max: 0.1000\n",
      "Epoch: 1000, Epsilon: 0.777, Reward Leadup: 97.5, Ave Score: 0.019, Max: 0.1000\n",
      "Epoch: 1100, Epsilon: 0.774, Reward Leadup: 97.2, Ave Score: 0.016, Max: 0.1000\n",
      "Epoch: 1200, Epsilon: 0.772, Reward Leadup: 97.0, Ave Score: 0.020, Max: 0.1000\n",
      "Epoch: 1300, Epsilon: 0.770, Reward Leadup: 96.8, Ave Score: 0.020, Max: 0.1000\n",
      "Epoch: 1400, Epsilon: 0.767, Reward Leadup: 96.5, Ave Score: 0.021, Max: 0.1000\n",
      "Epoch: 1500, Epsilon: 0.765, Reward Leadup: 96.2, Ave Score: 0.027, Max: 0.1000\n",
      "Epoch: 1600, Epsilon: 0.763, Reward Leadup: 96.0, Ave Score: 0.017, Max: 0.1000\n",
      "Epoch: 1700, Epsilon: 0.760, Reward Leadup: 95.8, Ave Score: 0.019, Max: 0.1900\n",
      "Epoch: 1800, Epsilon: 0.758, Reward Leadup: 95.5, Ave Score: 0.014, Max: 0.1900\n",
      "Epoch: 1900, Epsilon: 0.756, Reward Leadup: 95.2, Ave Score: 0.024, Max: 0.1900\n",
      "Epoch: 2000, Epsilon: 0.753, Reward Leadup: 95.0, Ave Score: 0.024, Max: 0.2000\n",
      "Epoch: 2100, Epsilon: 0.751, Reward Leadup: 94.8, Ave Score: 0.030, Max: 0.2000\n",
      "Epoch: 2200, Epsilon: 0.749, Reward Leadup: 94.5, Ave Score: 0.032, Max: 0.2000\n",
      "Epoch: 2300, Epsilon: 0.746, Reward Leadup: 94.2, Ave Score: 0.036, Max: 0.2000\n",
      "Epoch: 2400, Epsilon: 0.744, Reward Leadup: 94.0, Ave Score: 0.035, Max: 0.2000\n",
      "Epoch: 2500, Epsilon: 0.742, Reward Leadup: 93.8, Ave Score: 0.033, Max: 0.2000\n",
      "Epoch: 2600, Epsilon: 0.739, Reward Leadup: 93.5, Ave Score: 0.030, Max: 0.2000\n",
      "Epoch: 2700, Epsilon: 0.737, Reward Leadup: 93.2, Ave Score: 0.043, Max: 0.2000\n",
      "Epoch: 2800, Epsilon: 0.735, Reward Leadup: 93.0, Ave Score: 0.047, Max: 0.3000\n",
      "Epoch: 2900, Epsilon: 0.732, Reward Leadup: 92.8, Ave Score: 0.041, Max: 0.3000\n",
      "Epoch: 3000, Epsilon: 0.730, Reward Leadup: 92.5, Ave Score: 0.039, Max: 0.3000\n",
      "Epoch: 3100, Epsilon: 0.728, Reward Leadup: 92.2, Ave Score: 0.052, Max: 0.3000\n",
      "Epoch: 3200, Epsilon: 0.725, Reward Leadup: 92.0, Ave Score: 0.047, Max: 0.3000\n",
      "Epoch: 3300, Epsilon: 0.723, Reward Leadup: 91.8, Ave Score: 0.048, Max: 0.3000\n",
      "Epoch: 3400, Epsilon: 0.721, Reward Leadup: 91.5, Ave Score: 0.050, Max: 0.3000\n",
      "Epoch: 3500, Epsilon: 0.718, Reward Leadup: 91.2, Ave Score: 0.060, Max: 0.3000\n",
      "Epoch: 3600, Epsilon: 0.716, Reward Leadup: 91.0, Ave Score: 0.054, Max: 0.4000\n",
      "Epoch: 3700, Epsilon: 0.714, Reward Leadup: 90.8, Ave Score: 0.049, Max: 0.4000\n",
      "Epoch: 3800, Epsilon: 0.711, Reward Leadup: 90.5, Ave Score: 0.054, Max: 0.4000\n",
      "Epoch: 3900, Epsilon: 0.709, Reward Leadup: 90.2, Ave Score: 0.060, Max: 0.4000\n",
      "Epoch: 4000, Epsilon: 0.707, Reward Leadup: 90.0, Ave Score: 0.065, Max: 0.4000\n",
      "Epoch: 4100, Epsilon: 0.704, Reward Leadup: 89.8, Ave Score: 0.070, Max: 0.4000\n",
      "Epoch: 4200, Epsilon: 0.702, Reward Leadup: 89.5, Ave Score: 0.050, Max: 0.4000\n",
      "Epoch: 4300, Epsilon: 0.700, Reward Leadup: 89.2, Ave Score: 0.067, Max: 0.4000\n",
      "Epoch: 4400, Epsilon: 0.697, Reward Leadup: 89.0, Ave Score: 0.056, Max: 0.4000\n",
      "Epoch: 4500, Epsilon: 0.695, Reward Leadup: 88.8, Ave Score: 0.071, Max: 0.4000\n",
      "Epoch: 4600, Epsilon: 0.693, Reward Leadup: 88.5, Ave Score: 0.071, Max: 0.4000\n",
      "Epoch: 4700, Epsilon: 0.690, Reward Leadup: 88.2, Ave Score: 0.067, Max: 0.4000\n",
      "Epoch: 4800, Epsilon: 0.688, Reward Leadup: 88.0, Ave Score: 0.065, Max: 0.4000\n",
      "Epoch: 4900, Epsilon: 0.686, Reward Leadup: 87.8, Ave Score: 0.067, Max: 0.4000\n",
      "Epoch: 5000, Epsilon: 0.683, Reward Leadup: 87.5, Ave Score: 0.073, Max: 0.5000\n",
      "Epoch: 5100, Epsilon: 0.681, Reward Leadup: 87.2, Ave Score: 0.064, Max: 0.5000\n",
      "Epoch: 5200, Epsilon: 0.679, Reward Leadup: 87.0, Ave Score: 0.074, Max: 0.5000\n",
      "Epoch: 5300, Epsilon: 0.676, Reward Leadup: 86.8, Ave Score: 0.069, Max: 0.5000\n",
      "Epoch: 5400, Epsilon: 0.674, Reward Leadup: 86.5, Ave Score: 0.067, Max: 0.5000\n",
      "Epoch: 5500, Epsilon: 0.672, Reward Leadup: 86.2, Ave Score: 0.068, Max: 0.5000\n",
      "Epoch: 5600, Epsilon: 0.669, Reward Leadup: 86.0, Ave Score: 0.067, Max: 0.5000\n",
      "Epoch: 5700, Epsilon: 0.667, Reward Leadup: 85.8, Ave Score: 0.088, Max: 0.5000\n",
      "Epoch: 5800, Epsilon: 0.665, Reward Leadup: 85.5, Ave Score: 0.070, Max: 0.5000\n",
      "Epoch: 5900, Epsilon: 0.662, Reward Leadup: 85.2, Ave Score: 0.058, Max: 0.5000\n",
      "Epoch: 6000, Epsilon: 0.660, Reward Leadup: 85.0, Ave Score: 0.085, Max: 0.5000\n",
      "Epoch: 6100, Epsilon: 0.658, Reward Leadup: 84.8, Ave Score: 0.066, Max: 0.5000\n",
      "Epoch: 6200, Epsilon: 0.655, Reward Leadup: 84.5, Ave Score: 0.073, Max: 0.5000\n",
      "Epoch: 6300, Epsilon: 0.653, Reward Leadup: 84.2, Ave Score: 0.086, Max: 0.5000\n",
      "Epoch: 6400, Epsilon: 0.651, Reward Leadup: 84.0, Ave Score: 0.079, Max: 0.5000\n",
      "Epoch: 6500, Epsilon: 0.648, Reward Leadup: 83.8, Ave Score: 0.082, Max: 0.5000\n",
      "Epoch: 6600, Epsilon: 0.646, Reward Leadup: 83.5, Ave Score: 0.076, Max: 0.5000\n",
      "Epoch: 6700, Epsilon: 0.644, Reward Leadup: 83.2, Ave Score: 0.084, Max: 0.5000\n",
      "Epoch: 6800, Epsilon: 0.641, Reward Leadup: 83.0, Ave Score: 0.077, Max: 0.5000\n",
      "Epoch: 6900, Epsilon: 0.639, Reward Leadup: 82.8, Ave Score: 0.093, Max: 0.5000\n",
      "Epoch: 7000, Epsilon: 0.637, Reward Leadup: 82.5, Ave Score: 0.080, Max: 0.5000\n",
      "Epoch: 7100, Epsilon: 0.634, Reward Leadup: 82.2, Ave Score: 0.080, Max: 0.5000\n",
      "Epoch: 7200, Epsilon: 0.632, Reward Leadup: 82.0, Ave Score: 0.085, Max: 0.5000\n",
      "Epoch: 7300, Epsilon: 0.630, Reward Leadup: 81.8, Ave Score: 0.076, Max: 0.5000\n",
      "Epoch: 7400, Epsilon: 0.627, Reward Leadup: 81.5, Ave Score: 0.084, Max: 0.5000\n",
      "Epoch: 7500, Epsilon: 0.625, Reward Leadup: 81.2, Ave Score: 0.083, Max: 0.5000\n",
      "Epoch: 7600, Epsilon: 0.623, Reward Leadup: 81.0, Ave Score: 0.084, Max: 0.5000\n",
      "Epoch: 7700, Epsilon: 0.620, Reward Leadup: 80.8, Ave Score: 0.081, Max: 0.5000\n",
      "Epoch: 7800, Epsilon: 0.618, Reward Leadup: 80.5, Ave Score: 0.075, Max: 0.5000\n",
      "Epoch: 7900, Epsilon: 0.616, Reward Leadup: 80.2, Ave Score: 0.082, Max: 0.6000\n",
      "Epoch: 8000, Epsilon: 0.613, Reward Leadup: 80.0, Ave Score: 0.089, Max: 0.6000\n",
      "Epoch: 8100, Epsilon: 0.611, Reward Leadup: 79.8, Ave Score: 0.083, Max: 0.6000\n",
      "Epoch: 8200, Epsilon: 0.609, Reward Leadup: 79.5, Ave Score: 0.120, Max: 0.6000\n",
      "Epoch: 8300, Epsilon: 0.606, Reward Leadup: 79.2, Ave Score: 0.096, Max: 0.6000\n",
      "Epoch: 8400, Epsilon: 0.604, Reward Leadup: 79.0, Ave Score: 0.114, Max: 0.6000\n",
      "Epoch: 8500, Epsilon: 0.602, Reward Leadup: 78.8, Ave Score: 0.113, Max: 0.9000\n",
      "Epoch: 8600, Epsilon: 0.599, Reward Leadup: 78.5, Ave Score: 0.102, Max: 0.9000\n",
      "Epoch: 8700, Epsilon: 0.597, Reward Leadup: 78.2, Ave Score: 0.137, Max: 0.9000\n",
      "Epoch: 8800, Epsilon: 0.595, Reward Leadup: 78.0, Ave Score: 0.107, Max: 0.9000\n",
      "Epoch: 8900, Epsilon: 0.592, Reward Leadup: 77.8, Ave Score: 0.136, Max: 0.9000\n",
      "Epoch: 9000, Epsilon: 0.590, Reward Leadup: 77.5, Ave Score: 0.144, Max: 0.9000\n",
      "Epoch: 9100, Epsilon: 0.588, Reward Leadup: 77.2, Ave Score: 0.118, Max: 0.9000\n",
      "Epoch: 9200, Epsilon: 0.585, Reward Leadup: 77.0, Ave Score: 0.118, Max: 0.9000\n",
      "Epoch: 9300, Epsilon: 0.583, Reward Leadup: 76.8, Ave Score: 0.114, Max: 0.9000\n",
      "Epoch: 9400, Epsilon: 0.581, Reward Leadup: 76.5, Ave Score: 0.143, Max: 0.9000\n",
      "Epoch: 9500, Epsilon: 0.578, Reward Leadup: 76.2, Ave Score: 0.120, Max: 0.9000\n",
      "Epoch: 9600, Epsilon: 0.576, Reward Leadup: 76.0, Ave Score: 0.119, Max: 0.9000\n",
      "Epoch: 9700, Epsilon: 0.574, Reward Leadup: 75.8, Ave Score: 0.111, Max: 0.9000\n",
      "Epoch: 9800, Epsilon: 0.571, Reward Leadup: 75.5, Ave Score: 0.129, Max: 0.9000\n",
      "Epoch: 9900, Epsilon: 0.569, Reward Leadup: 75.2, Ave Score: 0.133, Max: 0.9000\n",
      "Epoch: 10000, Epsilon: 0.567, Reward Leadup: 75.0, Ave Score: 0.219, Max: 1.6000\n",
      "Epoch: 10100, Epsilon: 0.564, Reward Leadup: 74.8, Ave Score: 0.234, Max: 1.6000\n",
      "Epoch: 10200, Epsilon: 0.562, Reward Leadup: 74.5, Ave Score: 0.192, Max: 1.6000\n"
     ]
    },
    {
     "name": "stdout",
     "output_type": "stream",
     "text": [
      "Epoch: 10300, Epsilon: 0.560, Reward Leadup: 74.2, Ave Score: 0.132, Max: 1.6000\n",
      "Epoch: 10400, Epsilon: 0.557, Reward Leadup: 74.0, Ave Score: 0.190, Max: 1.6000\n",
      "Epoch: 10500, Epsilon: 0.555, Reward Leadup: 73.8, Ave Score: 0.215, Max: 1.6000\n",
      "Epoch: 10600, Epsilon: 0.553, Reward Leadup: 73.5, Ave Score: 0.179, Max: 1.6000\n",
      "Epoch: 10700, Epsilon: 0.550, Reward Leadup: 73.2, Ave Score: 0.214, Max: 1.6000\n",
      "Epoch: 10800, Epsilon: 0.548, Reward Leadup: 73.0, Ave Score: 0.276, Max: 1.7000\n",
      "Epoch: 10900, Epsilon: 0.546, Reward Leadup: 72.8, Ave Score: 0.201, Max: 1.7000\n",
      "Epoch: 11000, Epsilon: 0.543, Reward Leadup: 72.5, Ave Score: 0.236, Max: 1.7000\n",
      "Epoch: 11100, Epsilon: 0.541, Reward Leadup: 72.2, Ave Score: 0.235, Max: 1.7000\n",
      "Epoch: 11200, Epsilon: 0.539, Reward Leadup: 72.0, Ave Score: 0.217, Max: 1.7000\n",
      "Epoch: 11300, Epsilon: 0.536, Reward Leadup: 71.8, Ave Score: 0.282, Max: 1.9000\n",
      "Epoch: 11400, Epsilon: 0.534, Reward Leadup: 71.5, Ave Score: 0.224, Max: 1.9000\n",
      "Epoch: 11500, Epsilon: 0.532, Reward Leadup: 71.2, Ave Score: 0.158, Max: 1.9000\n",
      "Epoch: 11600, Epsilon: 0.529, Reward Leadup: 71.0, Ave Score: 0.230, Max: 1.9000\n",
      "Epoch: 11700, Epsilon: 0.527, Reward Leadup: 70.8, Ave Score: 0.267, Max: 1.9000\n",
      "Epoch: 11800, Epsilon: 0.525, Reward Leadup: 70.5, Ave Score: 0.306, Max: 1.9000\n",
      "Epoch: 11900, Epsilon: 0.522, Reward Leadup: 70.2, Ave Score: 0.200, Max: 1.9000\n",
      "Epoch: 12000, Epsilon: 0.520, Reward Leadup: 70.0, Ave Score: 0.349, Max: 1.9000\n",
      "Epoch: 12100, Epsilon: 0.518, Reward Leadup: 69.8, Ave Score: 0.230, Max: 1.9000\n",
      "Epoch: 12200, Epsilon: 0.515, Reward Leadup: 69.5, Ave Score: 0.294, Max: 1.9000\n",
      "Epoch: 12300, Epsilon: 0.513, Reward Leadup: 69.2, Ave Score: 0.324, Max: 1.9000\n",
      "Epoch: 12400, Epsilon: 0.511, Reward Leadup: 69.0, Ave Score: 0.324, Max: 2.2000\n",
      "Epoch: 12500, Epsilon: 0.508, Reward Leadup: 68.8, Ave Score: 0.383, Max: 2.2000\n",
      "Epoch: 12600, Epsilon: 0.506, Reward Leadup: 68.5, Ave Score: 0.249, Max: 2.2000\n",
      "Epoch: 12700, Epsilon: 0.504, Reward Leadup: 68.2, Ave Score: 0.418, Max: 2.2000\n",
      "Epoch: 12800, Epsilon: 0.501, Reward Leadup: 68.0, Ave Score: 0.413, Max: 2.3000\n",
      "stopped early because net has reached target score\n",
      "[0.5016000075079501, 0.5066000075824558, 0.507600007597357, 0.5046000075526536, 0.5066000075824558]\n",
      "2666.1764836130023\n"
     ]
    }
   ],
   "source": [
    "start = perf_counter()\n",
    "worker(model, params)\n",
    "save_model(model, 'actor_critic.pt')\n",
    "end = perf_counter()\n",
    "print((end - start))"
   ]
  },
  {
   "cell_type": "markdown",
   "metadata": {},
   "source": [
    "**Average Score and Scores each Episode**\n",
    "\n",
    "- Black: Moving Average score of the max of each agent at each episode. \n",
    "- Gray: Average score of the max of each agent at each episode"
   ]
  },
  {
   "cell_type": "code",
   "execution_count": 10,
   "metadata": {},
   "outputs": [
    {
     "data": {
      "image/png": "[encoded data removed]",
      "text/plain": [
       "<Figure size 432x288 with 1 Axes>"
      ]
     },
     "metadata": {
      "needs_background": "light"
     },
     "output_type": "display_data"
    },
    {
     "data": {
      "text/plain": [
       "<Figure size 432x288 with 0 Axes>"
      ]
     },
     "metadata": {},
     "output_type": "display_data"
    }
   ],
   "source": [
    "plot_scores(params['scores'], params['ave_scores'], filename='scores.png', show=True)"
   ]
  },
  {
   "cell_type": "code",
   "execution_count": 11,
   "metadata": {},
   "outputs": [
    {
     "data": {
      "image/png": "[encoded data removed]",
      "text/plain": [
       "<Figure size 432x288 with 1 Axes>"
      ]
     },
     "metadata": {
      "needs_background": "light"
     },
     "output_type": "display_data"
    },
    {
     "data": {
      "text/plain": [
       "<Figure size 432x288 with 0 Axes>"
      ]
     },
     "metadata": {},
     "output_type": "display_data"
    }
   ],
   "source": [
    "plot_losses(params['losses'], 'loss.png', show=True)"
   ]
  },
  {
   "cell_type": "code",
   "execution_count": 12,
   "metadata": {},
   "outputs": [
    {
     "data": {
      "image/png": "[encoded data removed]",
      "text/plain": [
       "<Figure size 432x288 with 1 Axes>"
      ]
     },
     "metadata": {
      "needs_background": "light"
     },
     "output_type": "display_data"
    },
    {
     "data": {
      "text/plain": [
       "<Figure size 432x288 with 0 Axes>"
      ]
     },
     "metadata": {},
     "output_type": "display_data"
    }
   ],
   "source": [
    "plot_losses(params['actor_losses'], filename='actor_loss.png', plotName=\"Actor Losses\", show=True)"
   ]
  },
  {
   "cell_type": "code",
   "execution_count": 13,
   "metadata": {},
   "outputs": [
    {
     "data": {
      "image/png": "[encoded data removed]",
      "text/plain": [
       "<Figure size 432x288 with 1 Axes>"
      ]
     },
     "metadata": {
      "needs_background": "light"
     },
     "output_type": "display_data"
    },
    {
     "data": {
      "text/plain": [
       "<Figure size 432x288 with 0 Axes>"
      ]
     },
     "metadata": {},
     "output_type": "display_data"
    }
   ],
   "source": [
    "plot_losses(params['critic_losses'], filename='critic_loss.png', plotName=\"Critic Losses\", show=True)"
   ]
  },
  {
   "cell_type": "code",
   "execution_count": 14,
   "metadata": {},
   "outputs": [],
   "source": [
    "env.close()"
   ]
  },
  {
   "cell_type": "markdown",
   "metadata": {},
   "source": [
    "## Future Work\n",
    "In the future I could improve this project by\n",
    "\n",
    "### Implementing GAE and PPO\n",
    "In this project, I implemented my own variation of gae that had a fixed reward look ahead window. GAE would improve on my variation by fading the rewards with a discounting factor. PPO would smooth the training process by stopping the networking parameters from changing a lot during back propagation. This is an issue with reinforcement learning because the training data is generated each episode and has high variability. Giving the network more tools while training variable length trajectories helps smooth the training process and produce higher rewards."
   ]
  },
  {
   "cell_type": "code",
   "execution_count": null,
   "metadata": {},
   "outputs": [],
   "source": []
  }
 ],
 "metadata": {
  "kernelspec": {
   "display_name": "Python 3",
   "language": "python",
   "name": "python3"
  },
  "language_info": {
   "codemirror_mode": {
    "name": "ipython",
    "version": 3
   },
   "file_extension": ".py",
   "mimetype": "text/x-python",
   "name": "python",
   "nbconvert_exporter": "python",
   "pygments_lexer": "ipython3",
   "version": "3.5.6"
  }
 },
 "nbformat": 4,
 "nbformat_minor": 2
}
